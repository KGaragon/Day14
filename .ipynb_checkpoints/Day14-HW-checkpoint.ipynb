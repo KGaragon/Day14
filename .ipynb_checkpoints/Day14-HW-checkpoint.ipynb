{
 "cells": [
  {
   "cell_type": "markdown",
   "id": "6ce44393-3036-4c90-904f-1e85718f57fb",
   "metadata": {},
   "source": [
    "## Introduction to Data Science\n",
    "\n",
    "#### University of Redlands - DATA 101\n",
    "#### Prof: Joanna Bieri [joanna_bieri@redlands.edu](mailto:joanna_bieri@redlands.edu)\n",
    "#### [Class Website: data101.joannabieri.com](https://joannabieri.com/data101.html)\n",
    "\n",
    "---------------------------------------\n",
    "# Homework Day 14\n",
    "---------------------------------------\n",
    "\n",
    "GOALS:\n",
    "\n",
    "1. Reflect on Algorithmic bias\n",
    "2. Consider your role in Data Ethics\n",
    "3. Report on your reading.\n",
    "\n",
    "----------------------------------------------------------\n",
    "\n",
    "This homework has **3 questions** and **1 reading report**"
   ]
  },
  {
   "cell_type": "markdown",
   "id": "d0c422e3-32b1-452f-89a8-2586784d3957",
   "metadata": {},
   "source": [
    "## Important Information\n",
    "\n",
    "- Email: [joanna_bieri@redlands.edu](mailto:joanna_bieri@redlands.edu)\n",
    "- Office Hours: Duke 209 <a href=\"https://joannabieri.com/schedule.html\"> Click Here for Joanna's Schedule</a>\n",
    "\n",
    "## Day 14 Assignment - same drill.\n",
    "\n",
    "1. Make sure you can **Fork** and **Clone** the Day14 repo from [Redlands-DATA101](https://github.com/Redlands-DATA101)\n",
    "2. Open the file Day14-HW.ipynb and start doing the problems.\n",
    "    * You can do these problems as you follow along with the lecture notes and video.\n",
    "3. Get as far as you can before class.\n",
    "4. Submit what you have so far **Commit** and **Push** to Git.\n",
    "5. Take the daily check in quiz on **Canvas**.\n",
    "7. Come to class with lots of questions!\n",
    "\n",
    "## If you start having trouble with git!!!\n",
    "\n",
    "Some people have reported that GIT is disappearing or giving errors on when they try to use it in Jupyter Lab. Here is another option for interacting with git:\n",
    "\n",
    "[Git Desktop](https://github.com/apps/desktop)\n",
    "\n",
    "If yous start having errors, try downloading this app. I can show you how to use it in class."
   ]
  },
  {
   "cell_type": "markdown",
   "id": "15fd0fc5-0e82-4265-a328-e906366c4907",
   "metadata": {},
   "source": [
    "## Report on your Data Ethics reading:\n",
    "\n",
    "**Your answers should be written as neatly as possible in Markdown cells**\n",
    "\n",
    "Your homework for today is all essay and written work. Make sure you respond to the three questions in the lecture:\n",
    "\n",
    "**Q1** What is your response to our discussion of bias in algorithms? Talk about the pluses and minuses of using algorithms to make decisions in our human world.\n",
    "\n",
    "**Q2**\n",
    "How do you train yourself to make the right decisions (or reduce the likelihood of accidentally making the wrong decisions) at those points?\n",
    "\n",
    "**Q3**\n",
    "How do you respond when you see bias in someones work? How could you take action to educate others?\n",
    "\n",
    "\n",
    "**Reading Report**\n",
    "\n",
    "Write a report about what you learned from your ethics reading exploration. For each book/article you read:\n",
    "\n",
    "1. Include a full proper reference to the book/article.\n",
    "   * BOOK: Author last name, First name. Book Title: Subtitle. Edition, Publisher, Year.\n",
    "   * ONLINE ARTICLE: Author last name, First name. Article Title. Website name, date accessed. html link.\n",
    "   * [MLA styles for citing other types of online work](https://style.mla.org/works-cited/citations-by-format/online-works/?gad_source=1)\n",
    "2. Write a summary in your own words what the book/article was about. Imagine telling your classmates about what they would learn by reading the article.\n",
    "3. Discuss your own reaction to the book/article. Did it have any effect on how you think about data and ethics? Do you agree with the author? What specific ideas really stood out to you?"
   ]
  },
  {
   "cell_type": "markdown",
   "id": "bf53176f-7926-4d4e-967c-5b5bbd011abe",
   "metadata": {},
   "source": [
    "**Q1** In my opinion, algorithms are not always good because many times you search for something in one application and what you searched for appears in another. Many other times you are talking, and the application shows exactly what you were talking about. Personally, I don't like this algorithm because it is something that I didn't ask for. I know that I probably gave permission by accepting the cookies, but I don't like it. There is also another type of algorithm that is used to make a decision, and although the algorithm can be a good thing because it analyzes large data, algorithms are not so good because they can create false answers, in the way that people can just use those algorithms without even investigating further, since algorithms are not something created by humans."
   ]
  },
  {
   "cell_type": "markdown",
   "id": "6a527f22-684c-4aee-aa4d-afd435a9c996",
   "metadata": {},
   "source": [
    "**Q2** I think one way to prepare yourself to make the best decisions is to be informed about everything, because knowledge is key. Another way to prepare yourself is to not rely 100% on technology, because even though it can give good insight, it is not always right, and we should not let technology block our human judgment."
   ]
  },
  {
   "cell_type": "markdown",
   "id": "7335bfa0-82c0-46d7-9734-f4300dedfa54",
   "metadata": {},
   "source": [
    "**Q3** I believe the first step should be to comprehend the context and the reasons behind someone's bias. Because their opinion may make sense to them and may come from different experiences. But ultimately I think the best thing to do is to inform that person of your opinion and that you think that person is not putting forward their neutral opinions and that maybe they are feeling a little biased towards something. This is an important thing to do because if you don't do it and sugarcoat your opinion, it can hurt the person; you have to give honest feedback. But above all, the important thing is to do it in an appropriate way, showing empathy and respect, so as not to cause problems or awkward moments. You have to show the person that even though their information looks good, you think that maybe they are not being completely neutral.\n"
   ]
  },
  {
   "cell_type": "markdown",
   "id": "9ca89bb8-e1ea-4af6-aea6-faf8874deaf2",
   "metadata": {},
   "source": [
    "**Reading Report**"
   ]
  },
  {
   "cell_type": "markdown",
   "id": "5914023b-85f2-4e02-b972-31e0fc7526ef",
   "metadata": {},
   "source": [
    "Floridi, Luciano & Taddeo, Mariarosaria. What is data ethics?.National Library of Medicine, The National Center for Biotechnology Information. https://pmc.ncbi.nlm.nih.gov/articles/PMC5124072/\n",
    "\n",
    "\n",
    "The article I read was called **What is data ethics?** The website where this article was posted is called **National Library of Medicine, The National Center for Biotechnology Information**. The authors mentioned in this article are Luciano Floridi and Mariarosaria Taddeo.\n",
    "This article talks about the use of artificial intelligence and the use of technology. It talks about how it benefits humans by reducing jobs that intelligence can do. At the same time, the reduction of human labor causes a lot of panic. The ideal is to create a balance between human and technological labor, because otherwise, having more technology than human labor could be fatal and also reduce the opportunities for human life.\n",
    "\n",
    "This article talks about the importance of balancing human activity with technology. Data ethics is about fixing these problems. Data ethics has three different branches; one of them is the ethics of data, which analyzes how large amounts of data should be used, which should be in a correct way, and respecting people, it should be used in a moral way. It seeks to ensure that no one's privacy is violated and that information is not used without consent. Another branch would be the ethics of algorithms, which deals with moral problems that come with artificial intelligence, since algorithms are becoming more and more intelligent and can make decisions on their own without human intervention, and that can cause many conflicts. The last branch, ethics of practices, deals with taking care of information and being responsible with it. As you can see, the three branches are very closely linked since they deal with the same thing. This was interesting because I read about data ethics in different fields, such as the medical field.\n",
    "\n"
   ]
  },
  {
   "cell_type": "markdown",
   "id": "c6faae4b-ce39-4695-a87f-99e40bda1322",
   "metadata": {},
   "source": [
    "\n",
    "-------------------------------------------------------\n",
    "\n",
    "## Further watching\n",
    "\n",
    "If you have time, really explore the world of data ethics. You could watch some of the videos linked from class.\n",
    "\n",
    "### Weapons of Math Destruction | Cathy O'Neil | Talks at Google\n",
    "\n",
    "{{< video https://www.youtube.com/watch?v=TQHs8SA1qpk >}}\n",
    "\n",
    "### Imagining a Future Free from the Algorithms of Oppression | Safiya Noble | ACL 2019\n",
    "\n",
    "{{< video https://www.youtube.com/watch?v=tNi_U1Bb1S0 >}}\n",
    "\n",
    "### Whats An Algorithm Got To Do With It\n",
    "\n",
    "{{< video https://www.youtube.com/watch?v=5zxDwA99soA >}}"
   ]
  },
  {
   "cell_type": "code",
   "execution_count": null,
   "id": "d75adfae-6e62-4549-9856-bf7030620521",
   "metadata": {},
   "outputs": [],
   "source": []
  }
 ],
 "metadata": {
  "kernelspec": {
   "display_name": "Python 3 (ipykernel)",
   "language": "python",
   "name": "python3"
  },
  "language_info": {
   "codemirror_mode": {
    "name": "ipython",
    "version": 3
   },
   "file_extension": ".py",
   "mimetype": "text/x-python",
   "name": "python",
   "nbconvert_exporter": "python",
   "pygments_lexer": "ipython3",
   "version": "3.12.3"
  }
 },
 "nbformat": 4,
 "nbformat_minor": 5
}
